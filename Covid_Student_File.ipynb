{
 "cells": [
  {
   "cell_type": "markdown",
   "id": "ce6d4221",
   "metadata": {},
   "source": [
    "<img src=\"https://dev.skillup.online/asset-v1:SkillUp+SKOAI101+PLU_2021_1+type@asset+block@SKO.png\" width=\"250\" align=\"center\">\n",
    "\n",
    "<h1 align=\"center\"><font size=\"5\"> Analyzing and Visualizing Covid-19 Cases</font></h1>"
   ]
  },
  {
   "cell_type": "markdown",
   "id": "ab14becf",
   "metadata": {},
   "source": [
    "## Importing Libraries"
   ]
  },
  {
   "cell_type": "code",
   "execution_count": 1,
   "id": "9294cba1",
   "metadata": {},
   "outputs": [],
   "source": [
    "# import libraries\n",
    "import numpy as np   \n",
    "import pandas as pd   \n",
    "import matplotlib.pyplot as plt  \n",
    "import seaborn as sns \n",
    "%matplotlib inline "
   ]
  },
  {
   "cell_type": "markdown",
   "id": "bcfbea3d",
   "metadata": {},
   "source": [
    "## Reading Data Set"
   ]
  },
  {
   "cell_type": "code",
   "execution_count": 2,
   "id": "bd437dc9",
   "metadata": {},
   "outputs": [],
   "source": [
    "# Read the data set using read_csv function\n",
    "\n",
    "df=pd.read_csv(\"Covid_19_cases.xls\")"
   ]
  },
  {
   "cell_type": "markdown",
   "id": "e8cdebd5",
   "metadata": {},
   "source": [
    "### Get glimpse of data"
   ]
  },
  {
   "cell_type": "code",
   "execution_count": 3,
   "id": "be87fcd1",
   "metadata": {},
   "outputs": [
    {
     "data": {
      "text/html": [
       "<div>\n",
       "<style scoped>\n",
       "    .dataframe tbody tr th:only-of-type {\n",
       "        vertical-align: middle;\n",
       "    }\n",
       "\n",
       "    .dataframe tbody tr th {\n",
       "        vertical-align: top;\n",
       "    }\n",
       "\n",
       "    .dataframe thead th {\n",
       "        text-align: right;\n",
       "    }\n",
       "</style>\n",
       "<table border=\"1\" class=\"dataframe\">\n",
       "  <thead>\n",
       "    <tr style=\"text-align: right;\">\n",
       "      <th></th>\n",
       "      <th>dateRep</th>\n",
       "      <th>day</th>\n",
       "      <th>month</th>\n",
       "      <th>year</th>\n",
       "      <th>cases</th>\n",
       "      <th>deaths</th>\n",
       "      <th>countriesAndTerritories</th>\n",
       "    </tr>\n",
       "  </thead>\n",
       "  <tbody>\n",
       "    <tr>\n",
       "      <th>0</th>\n",
       "      <td>31/05/2021</td>\n",
       "      <td>31</td>\n",
       "      <td>5</td>\n",
       "      <td>2021</td>\n",
       "      <td>366</td>\n",
       "      <td>5</td>\n",
       "      <td>Austria</td>\n",
       "    </tr>\n",
       "    <tr>\n",
       "      <th>1</th>\n",
       "      <td>30/05/2021</td>\n",
       "      <td>30</td>\n",
       "      <td>5</td>\n",
       "      <td>2021</td>\n",
       "      <td>570</td>\n",
       "      <td>6</td>\n",
       "      <td>Austria</td>\n",
       "    </tr>\n",
       "    <tr>\n",
       "      <th>2</th>\n",
       "      <td>29/05/2021</td>\n",
       "      <td>29</td>\n",
       "      <td>5</td>\n",
       "      <td>2021</td>\n",
       "      <td>538</td>\n",
       "      <td>11</td>\n",
       "      <td>Austria</td>\n",
       "    </tr>\n",
       "    <tr>\n",
       "      <th>3</th>\n",
       "      <td>28/05/2021</td>\n",
       "      <td>28</td>\n",
       "      <td>5</td>\n",
       "      <td>2021</td>\n",
       "      <td>639</td>\n",
       "      <td>4</td>\n",
       "      <td>Austria</td>\n",
       "    </tr>\n",
       "    <tr>\n",
       "      <th>4</th>\n",
       "      <td>27/05/2021</td>\n",
       "      <td>27</td>\n",
       "      <td>5</td>\n",
       "      <td>2021</td>\n",
       "      <td>405</td>\n",
       "      <td>19</td>\n",
       "      <td>Austria</td>\n",
       "    </tr>\n",
       "  </tbody>\n",
       "</table>\n",
       "</div>"
      ],
      "text/plain": [
       "      dateRep  day  month  year  cases  deaths countriesAndTerritories\n",
       "0  31/05/2021   31      5  2021    366       5                 Austria\n",
       "1  30/05/2021   30      5  2021    570       6                 Austria\n",
       "2  29/05/2021   29      5  2021    538      11                 Austria\n",
       "3  28/05/2021   28      5  2021    639       4                 Austria\n",
       "4  27/05/2021   27      5  2021    405      19                 Austria"
      ]
     },
     "execution_count": 3,
     "metadata": {},
     "output_type": "execute_result"
    }
   ],
   "source": [
    "df.head()"
   ]
  },
  {
   "cell_type": "code",
   "execution_count": 5,
   "id": "fa7ebe61",
   "metadata": {},
   "outputs": [
    {
     "data": {
      "text/html": [
       "<div>\n",
       "<style scoped>\n",
       "    .dataframe tbody tr th:only-of-type {\n",
       "        vertical-align: middle;\n",
       "    }\n",
       "\n",
       "    .dataframe tbody tr th {\n",
       "        vertical-align: top;\n",
       "    }\n",
       "\n",
       "    .dataframe thead th {\n",
       "        text-align: right;\n",
       "    }\n",
       "</style>\n",
       "<table border=\"1\" class=\"dataframe\">\n",
       "  <thead>\n",
       "    <tr style=\"text-align: right;\">\n",
       "      <th></th>\n",
       "      <th>cases</th>\n",
       "      <th>deaths</th>\n",
       "      <th>countriesAndTerritories</th>\n",
       "    </tr>\n",
       "  </thead>\n",
       "  <tbody>\n",
       "    <tr>\n",
       "      <th>0</th>\n",
       "      <td>366</td>\n",
       "      <td>5</td>\n",
       "      <td>Austria</td>\n",
       "    </tr>\n",
       "    <tr>\n",
       "      <th>1</th>\n",
       "      <td>570</td>\n",
       "      <td>6</td>\n",
       "      <td>Austria</td>\n",
       "    </tr>\n",
       "    <tr>\n",
       "      <th>2</th>\n",
       "      <td>538</td>\n",
       "      <td>11</td>\n",
       "      <td>Austria</td>\n",
       "    </tr>\n",
       "    <tr>\n",
       "      <th>3</th>\n",
       "      <td>639</td>\n",
       "      <td>4</td>\n",
       "      <td>Austria</td>\n",
       "    </tr>\n",
       "    <tr>\n",
       "      <th>4</th>\n",
       "      <td>405</td>\n",
       "      <td>19</td>\n",
       "      <td>Austria</td>\n",
       "    </tr>\n",
       "  </tbody>\n",
       "</table>\n",
       "</div>"
      ],
      "text/plain": [
       "   cases  deaths countriesAndTerritories\n",
       "0    366       5                 Austria\n",
       "1    570       6                 Austria\n",
       "2    538      11                 Austria\n",
       "3    639       4                 Austria\n",
       "4    405      19                 Austria"
      ]
     },
     "execution_count": 5,
     "metadata": {},
     "output_type": "execute_result"
    }
   ],
   "source": [
    "# consider the columns 'cases', 'deaths', 'countriesAndTerritories' and prepare a new dataframe\n",
    "# Write your code here\n",
    "df_new=df[['cases', 'deaths','countriesAndTerritories']]\n",
    "df_new.head()"
   ]
  },
  {
   "cell_type": "markdown",
   "id": "f9c63e59",
   "metadata": {},
   "source": [
    "<details><summary>Click Here for the Hint</summary>\n",
    "\n",
    " \n",
    "\n",
    "```\n",
    "    df_new=df[['cases', 'deaths','countriesAndTerritories']]\n",
    "\n",
    " \n",
    "\n",
    "```\n",
    "\n",
    " \n",
    "\n",
    "</details>"
   ]
  },
  {
   "cell_type": "code",
   "execution_count": 6,
   "id": "06b7a69a",
   "metadata": {},
   "outputs": [
    {
     "data": {
      "text/html": [
       "<div>\n",
       "<style scoped>\n",
       "    .dataframe tbody tr th:only-of-type {\n",
       "        vertical-align: middle;\n",
       "    }\n",
       "\n",
       "    .dataframe tbody tr th {\n",
       "        vertical-align: top;\n",
       "    }\n",
       "\n",
       "    .dataframe thead th {\n",
       "        text-align: right;\n",
       "    }\n",
       "</style>\n",
       "<table border=\"1\" class=\"dataframe\">\n",
       "  <thead>\n",
       "    <tr style=\"text-align: right;\">\n",
       "      <th></th>\n",
       "      <th>cases</th>\n",
       "      <th>deaths</th>\n",
       "      <th>countriesAndTerritories</th>\n",
       "    </tr>\n",
       "  </thead>\n",
       "  <tbody>\n",
       "    <tr>\n",
       "      <th>0</th>\n",
       "      <td>366</td>\n",
       "      <td>5</td>\n",
       "      <td>Austria</td>\n",
       "    </tr>\n",
       "    <tr>\n",
       "      <th>1</th>\n",
       "      <td>570</td>\n",
       "      <td>6</td>\n",
       "      <td>Austria</td>\n",
       "    </tr>\n",
       "    <tr>\n",
       "      <th>2</th>\n",
       "      <td>538</td>\n",
       "      <td>11</td>\n",
       "      <td>Austria</td>\n",
       "    </tr>\n",
       "    <tr>\n",
       "      <th>3</th>\n",
       "      <td>639</td>\n",
       "      <td>4</td>\n",
       "      <td>Austria</td>\n",
       "    </tr>\n",
       "    <tr>\n",
       "      <th>4</th>\n",
       "      <td>405</td>\n",
       "      <td>19</td>\n",
       "      <td>Austria</td>\n",
       "    </tr>\n",
       "    <tr>\n",
       "      <th>5</th>\n",
       "      <td>287</td>\n",
       "      <td>8</td>\n",
       "      <td>Austria</td>\n",
       "    </tr>\n",
       "    <tr>\n",
       "      <th>6</th>\n",
       "      <td>342</td>\n",
       "      <td>3</td>\n",
       "      <td>Austria</td>\n",
       "    </tr>\n",
       "    <tr>\n",
       "      <th>7</th>\n",
       "      <td>520</td>\n",
       "      <td>3</td>\n",
       "      <td>Austria</td>\n",
       "    </tr>\n",
       "    <tr>\n",
       "      <th>8</th>\n",
       "      <td>626</td>\n",
       "      <td>8</td>\n",
       "      <td>Austria</td>\n",
       "    </tr>\n",
       "    <tr>\n",
       "      <th>9</th>\n",
       "      <td>671</td>\n",
       "      <td>12</td>\n",
       "      <td>Austria</td>\n",
       "    </tr>\n",
       "  </tbody>\n",
       "</table>\n",
       "</div>"
      ],
      "text/plain": [
       "   cases  deaths countriesAndTerritories\n",
       "0    366       5                 Austria\n",
       "1    570       6                 Austria\n",
       "2    538      11                 Austria\n",
       "3    639       4                 Austria\n",
       "4    405      19                 Austria\n",
       "5    287       8                 Austria\n",
       "6    342       3                 Austria\n",
       "7    520       3                 Austria\n",
       "8    626       8                 Austria\n",
       "9    671      12                 Austria"
      ]
     },
     "execution_count": 6,
     "metadata": {},
     "output_type": "execute_result"
    }
   ],
   "source": [
    "# display the first 10 rows of new dataframe\n",
    "df_new.head(10)"
   ]
  },
  {
   "cell_type": "markdown",
   "id": "3d885bad",
   "metadata": {},
   "source": [
    "### Q1. Use groupby on <code>countriesAndTerritories</code> to find total <code>cases</code> and <code>deaths</code>"
   ]
  },
  {
   "cell_type": "code",
   "execution_count": 10,
   "id": "681c1c63",
   "metadata": {},
   "outputs": [
    {
     "data": {
      "text/html": [
       "<div>\n",
       "<style scoped>\n",
       "    .dataframe tbody tr th:only-of-type {\n",
       "        vertical-align: middle;\n",
       "    }\n",
       "\n",
       "    .dataframe tbody tr th {\n",
       "        vertical-align: top;\n",
       "    }\n",
       "\n",
       "    .dataframe thead th {\n",
       "        text-align: right;\n",
       "    }\n",
       "</style>\n",
       "<table border=\"1\" class=\"dataframe\">\n",
       "  <thead>\n",
       "    <tr style=\"text-align: right;\">\n",
       "      <th></th>\n",
       "      <th>countriesAndTerritories</th>\n",
       "      <th>cases</th>\n",
       "      <th>deaths</th>\n",
       "    </tr>\n",
       "  </thead>\n",
       "  <tbody>\n",
       "    <tr>\n",
       "      <th>0</th>\n",
       "      <td>Austria</td>\n",
       "      <td>184416</td>\n",
       "      <td>1925</td>\n",
       "    </tr>\n",
       "    <tr>\n",
       "      <th>1</th>\n",
       "      <td>Belgium</td>\n",
       "      <td>288119</td>\n",
       "      <td>2696</td>\n",
       "    </tr>\n",
       "    <tr>\n",
       "      <th>2</th>\n",
       "      <td>Bulgaria</td>\n",
       "      <td>171236</td>\n",
       "      <td>7471</td>\n",
       "    </tr>\n",
       "    <tr>\n",
       "      <th>3</th>\n",
       "      <td>Croatia</td>\n",
       "      <td>113168</td>\n",
       "      <td>2488</td>\n",
       "    </tr>\n",
       "    <tr>\n",
       "      <th>4</th>\n",
       "      <td>Cyprus</td>\n",
       "      <td>37700</td>\n",
       "      <td>129</td>\n",
       "    </tr>\n",
       "    <tr>\n",
       "      <th>5</th>\n",
       "      <td>Czechia</td>\n",
       "      <td>421221</td>\n",
       "      <td>9639</td>\n",
       "    </tr>\n",
       "    <tr>\n",
       "      <th>6</th>\n",
       "      <td>Denmark</td>\n",
       "      <td>69188</td>\n",
       "      <td>155</td>\n",
       "    </tr>\n",
       "    <tr>\n",
       "      <th>7</th>\n",
       "      <td>Estonia</td>\n",
       "      <td>62916</td>\n",
       "      <td>654</td>\n",
       "    </tr>\n",
       "    <tr>\n",
       "      <th>8</th>\n",
       "      <td>Finland</td>\n",
       "      <td>34760</td>\n",
       "      <td>177</td>\n",
       "    </tr>\n",
       "    <tr>\n",
       "      <th>9</th>\n",
       "      <td>France</td>\n",
       "      <td>2020808</td>\n",
       "      <td>22977</td>\n",
       "    </tr>\n",
       "  </tbody>\n",
       "</table>\n",
       "</div>"
      ],
      "text/plain": [
       "  countriesAndTerritories    cases  deaths\n",
       "0                 Austria   184416    1925\n",
       "1                 Belgium   288119    2696\n",
       "2                Bulgaria   171236    7471\n",
       "3                 Croatia   113168    2488\n",
       "4                  Cyprus    37700     129\n",
       "5                 Czechia   421221    9639\n",
       "6                 Denmark    69188     155\n",
       "7                 Estonia    62916     654\n",
       "8                 Finland    34760     177\n",
       "9                  France  2020808   22977"
      ]
     },
     "execution_count": 10,
     "metadata": {},
     "output_type": "execute_result"
    }
   ],
   "source": [
    "# Write your code here\n",
    "grouped=df_new.groupby('countriesAndTerritories')\n",
    "grouped.head()\n",
    "\n",
    "total= grouped.sum().reset_index()\n",
    "total.head(10)"
   ]
  },
  {
   "cell_type": "markdown",
   "id": "21904806",
   "metadata": {},
   "source": [
    "### Q2. Find top five countries in terms of <code>cases</code>, store them in a new dataframe and Visualize them"
   ]
  },
  {
   "cell_type": "code",
   "execution_count": 12,
   "id": "a9fad1f1",
   "metadata": {},
   "outputs": [
    {
     "name": "stdout",
     "output_type": "stream",
     "text": [
      "   index countriesAndTerritories    cases  deaths\n",
      "0      9                  France  2020808   22977\n",
      "1     15                   Italy  1290738   28347\n",
      "2     10                 Germany  1234058   18337\n",
      "3     23                  Poland  1164964   29969\n",
      "4     21             Netherlands   557983    2055\n"
     ]
    },
    {
     "data": {
      "text/plain": [
       "<AxesSubplot:xlabel='countriesAndTerritories', ylabel='cases'>"
      ]
     },
     "execution_count": 12,
     "metadata": {},
     "output_type": "execute_result"
    },
    {
     "data": {
      "image/png": "[encoded data removed]",
      "text/plain": [
       "<Figure size 640x480 with 1 Axes>"
      ]
     },
     "metadata": {},
     "output_type": "display_data"
    }
   ],
   "source": [
    "# Write your code here\n",
    "\n",
    "df_top_five_cases=total.sort_values(by='cases',ascending=False)\n",
    "df_top_five_cases=df_top_five_cases.head(5)\n",
    "df_top_five_cases.reset_index(inplace=True)\n",
    "print(df_top_five_cases)\n",
    "sns.barplot(x='countriesAndTerritories',y='cases',data=df_top_five_cases)\n"
   ]
  },
  {
   "cell_type": "markdown",
   "id": "a99abeee",
   "metadata": {},
   "source": [
    "<details><summary>Click Here for the Hint</summary>\n",
    "\n",
    " \n",
    "\n",
    "```\n",
    "    df_top_five_cases=df_cases.sort_values(by='cases',ascending=False)\n",
    "    df_top_five_cases=df_top_five_cases.head(5)\n",
    "    df_top_five_cases.reset_index(inplace=True)\n",
    "    print(df_top_five_cases)\n",
    "    sns.barplot(x='countriesAndTerritories',y='cases',data=df_top_five_cases)\n",
    "\n",
    " \n",
    "\n",
    "```\n",
    "\n",
    " \n",
    "\n",
    "</details>"
   ]
  },
  {
   "cell_type": "markdown",
   "id": "6ab0f300",
   "metadata": {},
   "source": [
    "### Q3. Find top five countries in terms of <code>deaths</code>, store them in a new dataframe and Visualize them"
   ]
  },
  {
   "cell_type": "code",
   "execution_count": 13,
   "id": "72554743",
   "metadata": {},
   "outputs": [
    {
     "name": "stdout",
     "output_type": "stream",
     "text": [
      "   index countriesAndTerritories    cases  deaths\n",
      "0     23                  Poland  1164964   29969\n",
      "1     15                   Italy  1290738   28347\n",
      "2      9                  France  2020808   22977\n",
      "3     10                 Germany  1234058   18337\n",
      "4     12                 Hungary   371613   14675\n"
     ]
    },
    {
     "data": {
      "text/plain": [
       "<AxesSubplot:xlabel='countriesAndTerritories', ylabel='deaths'>"
      ]
     },
     "execution_count": 13,
     "metadata": {},
     "output_type": "execute_result"
    },
    {
     "data": {
      "image/png": "[encoded data removed]",
      "text/plain": [
       "<Figure size 640x480 with 1 Axes>"
      ]
     },
     "metadata": {},
     "output_type": "display_data"
    }
   ],
   "source": [
    "# Write your code here\n",
    "df_top_five_cases=total.sort_values(by='deaths',ascending=False)\n",
    "df_top_five_cases=df_top_five_cases.head(5)\n",
    "df_top_five_cases.reset_index(inplace=True)\n",
    "print(df_top_five_cases)\n",
    "sns.barplot(x='countriesAndTerritories',y='deaths',data=df_top_five_cases)"
   ]
  },
  {
   "cell_type": "markdown",
   "id": "ee56736f",
   "metadata": {},
   "source": [
    "### Q4. Use groupby on <code>countriesAndTerritories</code> to find mean value of <code>cases</code> and <code>deaths</code>"
   ]
  },
  {
   "cell_type": "code",
   "execution_count": 14,
   "id": "8b28d68e",
   "metadata": {},
   "outputs": [
    {
     "data": {
      "text/html": [
       "<div>\n",
       "<style scoped>\n",
       "    .dataframe tbody tr th:only-of-type {\n",
       "        vertical-align: middle;\n",
       "    }\n",
       "\n",
       "    .dataframe tbody tr th {\n",
       "        vertical-align: top;\n",
       "    }\n",
       "\n",
       "    .dataframe thead th {\n",
       "        text-align: right;\n",
       "    }\n",
       "</style>\n",
       "<table border=\"1\" class=\"dataframe\">\n",
       "  <thead>\n",
       "    <tr style=\"text-align: right;\">\n",
       "      <th></th>\n",
       "      <th>countriesAndTerritories</th>\n",
       "      <th>cases</th>\n",
       "      <th>deaths</th>\n",
       "    </tr>\n",
       "  </thead>\n",
       "  <tbody>\n",
       "    <tr>\n",
       "      <th>0</th>\n",
       "      <td>Austria</td>\n",
       "      <td>2026.549451</td>\n",
       "      <td>21.153846</td>\n",
       "    </tr>\n",
       "    <tr>\n",
       "      <th>1</th>\n",
       "      <td>Belgium</td>\n",
       "      <td>3166.142857</td>\n",
       "      <td>29.626374</td>\n",
       "    </tr>\n",
       "    <tr>\n",
       "      <th>2</th>\n",
       "      <td>Bulgaria</td>\n",
       "      <td>1881.714286</td>\n",
       "      <td>82.098901</td>\n",
       "    </tr>\n",
       "    <tr>\n",
       "      <th>3</th>\n",
       "      <td>Croatia</td>\n",
       "      <td>1243.604396</td>\n",
       "      <td>27.340659</td>\n",
       "    </tr>\n",
       "    <tr>\n",
       "      <th>4</th>\n",
       "      <td>Cyprus</td>\n",
       "      <td>414.285714</td>\n",
       "      <td>1.417582</td>\n",
       "    </tr>\n",
       "    <tr>\n",
       "      <th>5</th>\n",
       "      <td>Czechia</td>\n",
       "      <td>4628.802198</td>\n",
       "      <td>105.923077</td>\n",
       "    </tr>\n",
       "    <tr>\n",
       "      <th>6</th>\n",
       "      <td>Denmark</td>\n",
       "      <td>760.307692</td>\n",
       "      <td>1.703297</td>\n",
       "    </tr>\n",
       "    <tr>\n",
       "      <th>7</th>\n",
       "      <td>Estonia</td>\n",
       "      <td>691.384615</td>\n",
       "      <td>7.186813</td>\n",
       "    </tr>\n",
       "    <tr>\n",
       "      <th>8</th>\n",
       "      <td>Finland</td>\n",
       "      <td>381.978022</td>\n",
       "      <td>1.945055</td>\n",
       "    </tr>\n",
       "    <tr>\n",
       "      <th>9</th>\n",
       "      <td>France</td>\n",
       "      <td>22206.681319</td>\n",
       "      <td>252.494505</td>\n",
       "    </tr>\n",
       "  </tbody>\n",
       "</table>\n",
       "</div>"
      ],
      "text/plain": [
       "  countriesAndTerritories         cases      deaths\n",
       "0                 Austria   2026.549451   21.153846\n",
       "1                 Belgium   3166.142857   29.626374\n",
       "2                Bulgaria   1881.714286   82.098901\n",
       "3                 Croatia   1243.604396   27.340659\n",
       "4                  Cyprus    414.285714    1.417582\n",
       "5                 Czechia   4628.802198  105.923077\n",
       "6                 Denmark    760.307692    1.703297\n",
       "7                 Estonia    691.384615    7.186813\n",
       "8                 Finland    381.978022    1.945055\n",
       "9                  France  22206.681319  252.494505"
      ]
     },
     "execution_count": 14,
     "metadata": {},
     "output_type": "execute_result"
    }
   ],
   "source": [
    "# Write your code here\n",
    "grouped=df_new.groupby('countriesAndTerritories')\n",
    "grouped.head()\n",
    "\n",
    "mean_v= grouped.mean().reset_index()\n",
    "mean_v.head(10)"
   ]
  },
  {
   "cell_type": "markdown",
   "id": "0a39122e",
   "metadata": {},
   "source": [
    "### Q5. Find top five countries with highest number of average <code>cases</code>, store them in a new dataframe and Visualize them"
   ]
  },
  {
   "cell_type": "code",
   "execution_count": 15,
   "id": "6e5ea972",
   "metadata": {},
   "outputs": [
    {
     "name": "stdout",
     "output_type": "stream",
     "text": [
      "   index countriesAndTerritories         cases      deaths\n",
      "0      9                  France  22206.681319  252.494505\n",
      "1     15                   Italy  14183.934066  311.505495\n",
      "2     10                 Germany  13561.076923  201.505495\n",
      "3     23                  Poland  12801.802198  329.329670\n",
      "4     21             Netherlands   6131.681319   22.582418\n"
     ]
    },
    {
     "data": {
      "text/plain": [
       "<AxesSubplot:xlabel='countriesAndTerritories', ylabel='cases'>"
      ]
     },
     "execution_count": 15,
     "metadata": {},
     "output_type": "execute_result"
    },
    {
     "data": {
      "image/png": "[encoded data removed]",
      "text/plain": [
       "<Figure size 640x480 with 1 Axes>"
      ]
     },
     "metadata": {},
     "output_type": "display_data"
    }
   ],
   "source": [
    "# Write your code here\n",
    "df_top_five_cases=mean_v.sort_values(by='cases',ascending=False)\n",
    "df_top_five_cases=df_top_five_cases.head(5)\n",
    "df_top_five_cases.reset_index(inplace=True)\n",
    "print(df_top_five_cases)\n",
    "sns.barplot(x='countriesAndTerritories',y='cases',data=df_top_five_cases)\n"
   ]
  },
  {
   "cell_type": "markdown",
   "id": "ad180e2a",
   "metadata": {},
   "source": [
    "### Q6. Find top five countries with highest number of average <code>deaths</code>, store them in a new dataframe and Visualize them"
   ]
  },
  {
   "cell_type": "code",
   "execution_count": null,
   "id": "c3ccc0b8",
   "metadata": {},
   "outputs": [],
   "source": [
    "# Write your code here"
   ]
  },
  {
   "cell_type": "code",
   "execution_count": 16,
   "id": "2ff5e9a3",
   "metadata": {},
   "outputs": [
    {
     "name": "stdout",
     "output_type": "stream",
     "text": [
      "   index countriesAndTerritories         cases      deaths\n",
      "0      9                  France  22206.681319  252.494505\n",
      "1     15                   Italy  14183.934066  311.505495\n",
      "2     10                 Germany  13561.076923  201.505495\n",
      "3     23                  Poland  12801.802198  329.329670\n",
      "4     21             Netherlands   6131.681319   22.582418\n"
     ]
    },
    {
     "data": {
      "text/plain": [
       "<AxesSubplot:xlabel='countriesAndTerritories', ylabel='cases'>"
      ]
     },
     "execution_count": 16,
     "metadata": {},
     "output_type": "execute_result"
    },
    {
     "data": {
      "image/png": "[encoded data removed]",
      "text/plain": [
       "<Figure size 640x480 with 1 Axes>"
      ]
     },
     "metadata": {},
     "output_type": "display_data"
    }
   ],
   "source": [
    "df_top_five_deaths=mean_v.sort_values(by='deaths',ascending=False)\n",
    "df_top_five_deaths=df_top_five_cases.head(5)\n",
    "df_top_five_deaths.reset_index(inplace=True)\n",
    "print(df_top_five_cases)\n",
    "sns.barplot(x='countriesAndTerritories',y='cases',data=df_top_five_cases)"
   ]
  },
  {
   "cell_type": "markdown",
   "id": "e61bf8b9",
   "metadata": {},
   "source": [
    "## Assignment Notebook Submission \n",
    "\n",
    "Once you complete your notebook you will have to share it. Save all your work and download the file. You will be submitting your notebook for peer review in the next section of the course.\n",
    "\n"
   ]
  },
  {
   "cell_type": "markdown",
   "id": "6e266b0f",
   "metadata": {},
   "source": [
    "## Author(s)\n",
    "\n",
    "Aditya Singh\n",
    "\n",
    "## Changelog\n",
    "| Date | Version | Changed by | Change Description |\n",
    "|------|--------|--------|---------|\n",
    "| 2021-07-09 | 1.0 | Aditya | Created new version |\n",
    "|   |   |   |   |\n"
   ]
  },
  {
   "cell_type": "code",
   "execution_count": null,
   "id": "55743b78",
   "metadata": {},
   "outputs": [],
   "source": []
  }
 ],
 "metadata": {
  "kernelspec": {
   "display_name": "Python 3 (ipykernel)",
   "language": "python",
   "name": "python3"
  },
  "language_info": {
   "codemirror_mode": {
    "name": "ipython",
    "version": 3
   },
   "file_extension": ".py",
   "mimetype": "text/x-python",
   "name": "python",
   "nbconvert_exporter": "python",
   "pygments_lexer": "ipython3",
   "version": "3.9.13"
  }
 },
 "nbformat": 4,
 "nbformat_minor": 5
}
